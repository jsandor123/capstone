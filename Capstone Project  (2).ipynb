{
 "cells": [
  {
   "cell_type": "code",
   "execution_count": 1,
   "metadata": {},
   "outputs": [],
   "source": [
    "#Importing dataset\n",
    "import pandas as pd \n",
    "import numpy as np\n",
    "import datetime\n",
    "file = 'DiningTrans_201910.csv'\n",
    "data = pd.read_csv(file)\n",
    "\n",
    "#separating out date/time\n",
    "data['Date_time']=data['ProcessDT'].str.split()\n",
    "data['Date']=[data['Date_time'][0][0] for x in data['Date_time']]\n",
    "data['Time']=[data['Date_time'][0][1] for x in data['Date_time']]"
   ]
  },
  {
   "cell_type": "code",
   "execution_count": 2,
   "metadata": {},
   "outputs": [],
   "source": [
    "#Deleting the Soda Machine\n"
   ]
  },
  {
   "cell_type": "code",
   "execution_count": 3,
   "metadata": {},
   "outputs": [],
   "source": [
    "#Creating time index\n",
    "data['Time1']=pd.to_datetime(data['ProcessDT'])\n",
    "index=pd.DatetimeIndex(data['Time1'])\n"
   ]
  },
  {
   "cell_type": "code",
   "execution_count": 4,
   "metadata": {},
   "outputs": [],
   "source": [
    "#timedelta good for 15 minute intervals\n",
    "#[[data['Time1'][1]-data['Time1'][0] for x in data['time']]"
   ]
  },
  {
   "cell_type": "code",
   "execution_count": 5,
   "metadata": {},
   "outputs": [],
   "source": [
    "data2=data"
   ]
  },
  {
   "cell_type": "code",
   "execution_count": 6,
   "metadata": {},
   "outputs": [
    {
     "data": {
      "text/html": [
       "<div>\n",
       "<style scoped>\n",
       "    .dataframe tbody tr th:only-of-type {\n",
       "        vertical-align: middle;\n",
       "    }\n",
       "\n",
       "    .dataframe tbody tr th {\n",
       "        vertical-align: top;\n",
       "    }\n",
       "\n",
       "    .dataframe thead th {\n",
       "        text-align: right;\n",
       "    }\n",
       "</style>\n",
       "<table border=\"1\" class=\"dataframe\">\n",
       "  <thead>\n",
       "    <tr style=\"text-align: right;\">\n",
       "      <th></th>\n",
       "      <th>keyCampusID</th>\n",
       "      <th>ProcessDT</th>\n",
       "      <th>AccountName</th>\n",
       "      <th>ReaderName</th>\n",
       "      <th>PlaceName</th>\n",
       "      <th>TransactionType</th>\n",
       "      <th>Date_time</th>\n",
       "      <th>Date</th>\n",
       "      <th>Time</th>\n",
       "      <th>Time1</th>\n",
       "    </tr>\n",
       "  </thead>\n",
       "  <tbody>\n",
       "    <tr>\n",
       "      <th>0</th>\n",
       "      <td>24801</td>\n",
       "      <td>2019-10-01 00:00:51</td>\n",
       "      <td>7 Day All Access</td>\n",
       "      <td>Snelling Left Iris</td>\n",
       "      <td>Snelling Dining Commons</td>\n",
       "      <td>charge</td>\n",
       "      <td>[2019-10-01, 00:00:51]</td>\n",
       "      <td>2019-10-01</td>\n",
       "      <td>00:00:51</td>\n",
       "      <td>2019-10-01 00:00:51</td>\n",
       "    </tr>\n",
       "    <tr>\n",
       "      <th>1</th>\n",
       "      <td>21133</td>\n",
       "      <td>2019-10-01 00:00:55</td>\n",
       "      <td>5 Day All Access</td>\n",
       "      <td>Snelling Right Iris</td>\n",
       "      <td>Snelling Dining Commons</td>\n",
       "      <td>charge</td>\n",
       "      <td>[2019-10-01, 00:00:55]</td>\n",
       "      <td>2019-10-01</td>\n",
       "      <td>00:00:51</td>\n",
       "      <td>2019-10-01 00:00:55</td>\n",
       "    </tr>\n",
       "    <tr>\n",
       "      <th>2</th>\n",
       "      <td>31291</td>\n",
       "      <td>2019-10-01 00:01:54</td>\n",
       "      <td>7 Day All Access</td>\n",
       "      <td>Snelling Left Iris</td>\n",
       "      <td>Snelling Dining Commons</td>\n",
       "      <td>charge</td>\n",
       "      <td>[2019-10-01, 00:01:54]</td>\n",
       "      <td>2019-10-01</td>\n",
       "      <td>00:00:51</td>\n",
       "      <td>2019-10-01 00:01:54</td>\n",
       "    </tr>\n",
       "    <tr>\n",
       "      <th>3</th>\n",
       "      <td>31549</td>\n",
       "      <td>2019-10-01 00:02:30</td>\n",
       "      <td>7 Day All Access</td>\n",
       "      <td>Snelling Left Iris</td>\n",
       "      <td>Snelling Dining Commons</td>\n",
       "      <td>charge</td>\n",
       "      <td>[2019-10-01, 00:02:30]</td>\n",
       "      <td>2019-10-01</td>\n",
       "      <td>00:00:51</td>\n",
       "      <td>2019-10-01 00:02:30</td>\n",
       "    </tr>\n",
       "    <tr>\n",
       "      <th>4</th>\n",
       "      <td>31378</td>\n",
       "      <td>2019-10-01 00:02:35</td>\n",
       "      <td>7 Day All Access</td>\n",
       "      <td>Snelling Left Iris</td>\n",
       "      <td>Snelling Dining Commons</td>\n",
       "      <td>charge</td>\n",
       "      <td>[2019-10-01, 00:02:35]</td>\n",
       "      <td>2019-10-01</td>\n",
       "      <td>00:00:51</td>\n",
       "      <td>2019-10-01 00:02:35</td>\n",
       "    </tr>\n",
       "  </tbody>\n",
       "</table>\n",
       "</div>"
      ],
      "text/plain": [
       "   keyCampusID            ProcessDT       AccountName           ReaderName  \\\n",
       "0        24801  2019-10-01 00:00:51  7 Day All Access   Snelling Left Iris   \n",
       "1        21133  2019-10-01 00:00:55  5 Day All Access  Snelling Right Iris   \n",
       "2        31291  2019-10-01 00:01:54  7 Day All Access   Snelling Left Iris   \n",
       "3        31549  2019-10-01 00:02:30  7 Day All Access   Snelling Left Iris   \n",
       "4        31378  2019-10-01 00:02:35  7 Day All Access   Snelling Left Iris   \n",
       "\n",
       "                 PlaceName TransactionType               Date_time  \\\n",
       "0  Snelling Dining Commons          charge  [2019-10-01, 00:00:51]   \n",
       "1  Snelling Dining Commons          charge  [2019-10-01, 00:00:55]   \n",
       "2  Snelling Dining Commons          charge  [2019-10-01, 00:01:54]   \n",
       "3  Snelling Dining Commons          charge  [2019-10-01, 00:02:30]   \n",
       "4  Snelling Dining Commons          charge  [2019-10-01, 00:02:35]   \n",
       "\n",
       "         Date      Time               Time1  \n",
       "0  2019-10-01  00:00:51 2019-10-01 00:00:51  \n",
       "1  2019-10-01  00:00:51 2019-10-01 00:00:55  \n",
       "2  2019-10-01  00:00:51 2019-10-01 00:01:54  \n",
       "3  2019-10-01  00:00:51 2019-10-01 00:02:30  \n",
       "4  2019-10-01  00:00:51 2019-10-01 00:02:35  "
      ]
     },
     "execution_count": 6,
     "metadata": {},
     "output_type": "execute_result"
    }
   ],
   "source": [
    "data2.head()"
   ]
  },
  {
   "cell_type": "code",
   "execution_count": 16,
   "metadata": {},
   "outputs": [],
   "source": [
    "#Creating Subsetted Dataset of just dining halls\n",
    "data3= data2.loc[(data2['PlaceName']== 'Joe Frank Harris Commons') | (data2['PlaceName']== 'Bolton Dining Commons') | (data2['PlaceName']== 'The Niche') | (data2['PlaceName']== 'Oglethorpe Dining Commons') | (data2['PlaceName']== 'Snelling Dining Commons')]"
   ]
  },
  {
   "cell_type": "code",
   "execution_count": 17,
   "metadata": {},
   "outputs": [
    {
     "data": {
      "text/plain": [
       "{'Bolton Dining Commons',\n",
       " 'Joe Frank Harris Commons',\n",
       " 'Oglethorpe Dining Commons',\n",
       " 'Snelling Dining Commons',\n",
       " 'The Niche'}"
      ]
     },
     "execution_count": 17,
     "metadata": {},
     "output_type": "execute_result"
    }
   ],
   "source": [
    "##a list \n",
    "Id_pairs=[]\n",
    "x=0\n",
    "y=0\n",
    "for x in len(data3):\n",
    "    while data3['Time1'][x]-data3['Time1'][y]):\n",
    "        if data3['PlaceName']==[data3[data3['PlaceName']== (#Need to self reference)] \n",
    "        id_pairs.append(data3[data3['Time1'][x]]['keyCampusID'].iloc[0])\n",
    "        \n",
    "        y+=1\n",
    "        "
   ]
  },
  {
   "cell_type": "code",
   "execution_count": null,
   "metadata": {},
   "outputs": [],
   "source": []
  }
 ],
 "metadata": {
  "kernelspec": {
   "display_name": "Python 3",
   "language": "python",
   "name": "python3"
  },
  "language_info": {
   "codemirror_mode": {
    "name": "ipython",
    "version": 3
   },
   "file_extension": ".py",
   "mimetype": "text/x-python",
   "name": "python",
   "nbconvert_exporter": "python",
   "pygments_lexer": "ipython3",
   "version": "3.8.5"
  }
 },
 "nbformat": 4,
 "nbformat_minor": 4
}
